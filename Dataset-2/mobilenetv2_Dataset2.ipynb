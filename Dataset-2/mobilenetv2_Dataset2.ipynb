{
 "cells": [
  {
   "metadata": {},
   "cell_type": "markdown",
   "source": "",
   "id": "8a77807f92f26ee"
  },
  {
   "metadata": {
    "ExecuteTime": {
     "end_time": "2024-11-10T06:08:33.413911Z",
     "start_time": "2024-11-10T06:08:24.956100Z"
    }
   },
   "cell_type": "code",
   "source": [
    "import zipfile\n",
    "import os\n",
    "\n",
    "# Define the path to the ZIP file and the extraction directory\n",
    "zip_file_path = r'C:\\Users\\sujib\\Downloads\\Dataset-2.zip'\n",
    "extraction_path = r'C:\\Users\\sujib\\Downloads\\Dataset-2'\n",
    "\n",
    "# Create the extraction directory if it doesn't exist\n",
    "os.makedirs(extraction_path, exist_ok=True)\n",
    "\n",
    "# Unzip the file\n",
    "with zipfile.ZipFile(zip_file_path, 'r') as zip_ref:\n",
    "    zip_ref.extractall(extraction_path)\n",
    "\n",
    "print(\"Unzipped files to:\", extraction_path)\n"
   ],
   "id": "142ffe85a22a0028",
   "outputs": [
    {
     "name": "stdout",
     "output_type": "stream",
     "text": [
      "Unzipped files to: C:\\Users\\sujib\\Downloads\\Dataset-2\n"
     ]
    }
   ],
   "execution_count": 2
  },
  {
   "metadata": {
    "ExecuteTime": {
     "end_time": "2024-11-10T06:08:33.552125Z",
     "start_time": "2024-11-10T06:08:33.498142Z"
    }
   },
   "cell_type": "code",
   "source": [
    "import os\n",
    "import csv\n",
    "\n",
    "# Define the dataset path\n",
    "dataset_path = r\"C:\\Users\\sujib\\Downloads\\Dataset-2\\Food Classification\"\n",
    "output_csv = os.path.join(dataset_path, \"image_labels.csv\")\n",
    "\n",
    "# Collect image paths and labels\n",
    "entries = []\n",
    "for folder in os.listdir(dataset_path):\n",
    "    folder_path = os.path.join(dataset_path, folder)\n",
    "    if os.path.isdir(folder_path):  # Only process directories\n",
    "        label = folder  # The folder name is the label\n",
    "        for image_file in os.listdir(folder_path):\n",
    "            if image_file.lower().endswith(('.png', '.jpg', '.jpeg')):\n",
    "                image_path = os.path.join(folder_path, image_file)\n",
    "                entries.append([image_path, label])\n",
    "\n",
    "# Write to CSV\n",
    "with open(output_csv, mode=\"w\", newline=\"\") as csv_file:\n",
    "    writer = csv.writer(csv_file)\n",
    "    writer.writerow([\"image_path\", \"label\"])  # Column headers\n",
    "    writer.writerows(entries)\n",
    "\n",
    "print(f\"CSV file created with {len(entries)} entries at: {output_csv}\")\n",
    "\n"
   ],
   "id": "c84dd524aab3bcd1",
   "outputs": [
    {
     "name": "stdout",
     "output_type": "stream",
     "text": [
      "CSV file created with 6269 entries at: C:\\Users\\sujib\\Downloads\\Dataset-2\\Food Classification\\image_labels.csv\n"
     ]
    }
   ],
   "execution_count": 3
  },
  {
   "metadata": {
    "ExecuteTime": {
     "end_time": "2024-11-10T06:08:34.032559Z",
     "start_time": "2024-11-10T06:08:33.602325Z"
    }
   },
   "cell_type": "code",
   "source": [
    "import pandas as pd\n",
    "import numpy as np\n",
    "import matplotlib.pyplot as plt\n",
    "df = pd.read_csv(\"C:/Users/sujib/Downloads/Dataset-2/Food Classification/image_labels.csv\")\n",
    "print(df.head(15))"
   ],
   "id": "87982a7740395bf1",
   "outputs": [
    {
     "name": "stdout",
     "output_type": "stream",
     "text": [
      "                                           image_path   label\n",
      "0   C:\\Users\\sujib\\Downloads\\Dataset-2\\Food Classi...  burger\n",
      "1   C:\\Users\\sujib\\Downloads\\Dataset-2\\Food Classi...  burger\n",
      "2   C:\\Users\\sujib\\Downloads\\Dataset-2\\Food Classi...  burger\n",
      "3   C:\\Users\\sujib\\Downloads\\Dataset-2\\Food Classi...  burger\n",
      "4   C:\\Users\\sujib\\Downloads\\Dataset-2\\Food Classi...  burger\n",
      "5   C:\\Users\\sujib\\Downloads\\Dataset-2\\Food Classi...  burger\n",
      "6   C:\\Users\\sujib\\Downloads\\Dataset-2\\Food Classi...  burger\n",
      "7   C:\\Users\\sujib\\Downloads\\Dataset-2\\Food Classi...  burger\n",
      "8   C:\\Users\\sujib\\Downloads\\Dataset-2\\Food Classi...  burger\n",
      "9   C:\\Users\\sujib\\Downloads\\Dataset-2\\Food Classi...  burger\n",
      "10  C:\\Users\\sujib\\Downloads\\Dataset-2\\Food Classi...  burger\n",
      "11  C:\\Users\\sujib\\Downloads\\Dataset-2\\Food Classi...  burger\n",
      "12  C:\\Users\\sujib\\Downloads\\Dataset-2\\Food Classi...  burger\n",
      "13  C:\\Users\\sujib\\Downloads\\Dataset-2\\Food Classi...  burger\n",
      "14  C:\\Users\\sujib\\Downloads\\Dataset-2\\Food Classi...  burger\n"
     ]
    }
   ],
   "execution_count": 4
  },
  {
   "metadata": {
    "ExecuteTime": {
     "end_time": "2024-11-10T06:08:34.063336Z",
     "start_time": "2024-11-10T06:08:34.050127Z"
    }
   },
   "cell_type": "code",
   "source": "df.shape",
   "id": "65a55012b302611b",
   "outputs": [
    {
     "data": {
      "text/plain": [
       "(6269, 2)"
      ]
     },
     "execution_count": 5,
     "metadata": {},
     "output_type": "execute_result"
    }
   ],
   "execution_count": 5
  },
  {
   "metadata": {
    "ExecuteTime": {
     "end_time": "2024-11-10T06:08:34.125912Z",
     "start_time": "2024-11-10T06:08:34.109127Z"
    }
   },
   "cell_type": "code",
   "source": "df.columns",
   "id": "197bb6c06aad6698",
   "outputs": [
    {
     "data": {
      "text/plain": [
       "Index(['image_path', 'label'], dtype='object')"
      ]
     },
     "execution_count": 6,
     "metadata": {},
     "output_type": "execute_result"
    }
   ],
   "execution_count": 6
  },
  {
   "metadata": {
    "ExecuteTime": {
     "end_time": "2024-11-10T06:08:34.204200Z",
     "start_time": "2024-11-10T06:08:34.190686Z"
    }
   },
   "cell_type": "code",
   "source": "df['label'].unique()",
   "id": "1d695b7554412164",
   "outputs": [
    {
     "data": {
      "text/plain": [
       "array(['burger', 'butter_naan', 'chai', 'chapati', 'chole_bhature',\n",
       "       'dal_makhani', 'dhokla', 'fried_rice', 'idli', 'jalebi',\n",
       "       'kaathi_rolls', 'kadai_paneer', 'kulfi', 'masala_dosa', 'momos',\n",
       "       'paani_puri', 'pakode', 'pav_bhaji', 'pizza', 'samosa'],\n",
       "      dtype=object)"
      ]
     },
     "execution_count": 7,
     "metadata": {},
     "output_type": "execute_result"
    }
   ],
   "execution_count": 7
  },
  {
   "metadata": {
    "ExecuteTime": {
     "end_time": "2024-11-10T06:08:34.220084Z",
     "start_time": "2024-11-10T06:08:34.212570Z"
    }
   },
   "cell_type": "code",
   "source": [
    "df['label'].nunique()\n",
    "# this gives the number of classes"
   ],
   "id": "387c9b3585ab6a72",
   "outputs": [
    {
     "data": {
      "text/plain": [
       "20"
      ]
     },
     "execution_count": 8,
     "metadata": {},
     "output_type": "execute_result"
    }
   ],
   "execution_count": 8
  },
  {
   "metadata": {
    "ExecuteTime": {
     "end_time": "2024-11-10T06:08:34.482486Z",
     "start_time": "2024-11-10T06:08:34.244115Z"
    }
   },
   "cell_type": "code",
   "source": [
    "import matplotlib.pyplot as plt\n",
    "category_counts = df['label'].value_counts()\n",
    "\n",
    "plt.figure(figsize=(10, 6))\n",
    "category_counts.plot(kind='bar')\n",
    "plt.title('Count of Each Category')\n",
    "plt.xlabel('Category')\n",
    "plt.ylabel('Count')\n",
    "plt.xticks(rotation=45, ha='right')\n",
    "plt.show()\n",
    "df.shape"
   ],
   "id": "bdcafba1734ae45",
   "outputs": [
    {
     "data": {
      "text/plain": [
       "<Figure size 1000x600 with 1 Axes>"
      ],
      "image/png": "[encoded data removed]"
     },
     "metadata": {},
     "output_type": "display_data"
    },
    {
     "data": {
      "text/plain": [
       "(6269, 2)"
      ]
     },
     "execution_count": 9,
     "metadata": {},
     "output_type": "execute_result"
    }
   ],
   "execution_count": 9
  },
  {
   "metadata": {
    "ExecuteTime": {
     "end_time": "2024-11-10T06:10:38.895160Z",
     "start_time": "2024-11-10T06:08:34.499319Z"
    }
   },
   "cell_type": "code",
   "source": [
    "import os\n",
    "import numpy as np\n",
    "import cv2\n",
    "import zipfile\n",
    "from io import BytesIO\n",
    "from PIL import Image\n",
    "\n",
    "def process_image(image_np):\n",
    "    # Decode the image as an OpenCV BGR image\n",
    "    image_bgr = cv2.imdecode(image_np, cv2.IMREAD_COLOR)\n",
    "\n",
    "    # Check if image was loaded properly\n",
    "    if image_bgr is None:\n",
    "        print(\"Error: Image could not be loaded.\")\n",
    "        return None\n",
    "\n",
    "    # Convert to HSV to detect the red rectangle\n",
    "    image_hsv = cv2.cvtColor(image_bgr, cv2.COLOR_BGR2HSV)\n",
    "    mask = cv2.inRange(image_hsv, (0, 255, 255), (0, 255, 255))\n",
    "\n",
    "    # Find red rectangle coordinates or default to the entire image\n",
    "    if np.any(mask):\n",
    "        y1, y2 = np.min(np.where(mask != 0)[0]), np.max(np.where(mask != 0)[0])\n",
    "        x1, x2 = np.min(np.where(mask != 0)[1]), np.max(np.where(mask != 0)[1])\n",
    "    else:\n",
    "        y1, y2, x1, x2 = 0, mask.shape[0], 0, mask.shape[1]\n",
    "\n",
    "    # Crop and resize\n",
    "    image_cropped = image_bgr[y1:y2, x1:x2]\n",
    "    if image_cropped.size == 0:\n",
    "        print(\"Error: Cropped image is empty.\")\n",
    "        return None\n",
    "\n",
    "    image_resized = cv2.resize(image_cropped, (96, 96))\n",
    "    return Image.fromarray(cv2.cvtColor(image_resized, cv2.COLOR_BGR2RGB))\n",
    "\n",
    "def load_and_process_image(file_path, category, unit_id):\n",
    "    # Load image data and process\n",
    "    with open(file_path, 'rb') as f:\n",
    "        image_np = np.asarray(bytearray(f.read()), dtype=np.uint8)\n",
    "    cropped_image = process_image(image_np)\n",
    "\n",
    "    if cropped_image is None:\n",
    "        print(f\"Skipping image {file_path} due to processing error.\")\n",
    "        return None, None\n",
    "\n",
    "    # Save the processed image as bytes\n",
    "    image_bytes = BytesIO()\n",
    "    cropped_image.save(image_bytes, format='JPEG')\n",
    "    return image_bytes.getvalue(), f\"{category}/{unit_id}.jpg\"\n",
    "\n",
    "def process_images_in_directory(data_dir, zip_filename, batch_size=100):\n",
    "    # Initialize zip file and category directories\n",
    "    with zipfile.ZipFile(zip_filename, 'w') as zipf:\n",
    "        for category in os.listdir(data_dir):\n",
    "            category_path = os.path.join(data_dir, category)\n",
    "            if not os.path.isdir(category_path):\n",
    "                continue\n",
    "\n",
    "            # Process each image in category directory\n",
    "            for idx, filename in enumerate(os.listdir(category_path)):\n",
    "                if filename.lower().endswith(('.jpg', '.jpeg', '.png')):\n",
    "                    file_path = os.path.join(category_path, filename)\n",
    "                    unit_id = os.path.splitext(filename)[0]  # Using filename as unique ID\n",
    "\n",
    "                    image_bytes, zip_path = load_and_process_image(file_path, category, unit_id)\n",
    "                    if image_bytes:\n",
    "                        zipf.writestr(zip_path, image_bytes)\n",
    "\n",
    "                    # Batch processing output message\n",
    "                    if (idx + 1) % batch_size == 0:\n",
    "                        print(f'Processed {idx + 1} images in category {category}.')\n",
    "\n",
    "    print(\"All images zipped successfully.\")\n",
    "\n",
    "# Define paths and run the function\n",
    "data_dir = r'C:\\Users\\sujib\\Downloads\\Dataset-2\\Food Classification'\n",
    "zip_filename = r'C:\\Users\\sujib\\Downloads\\images_tuned.zip'\n",
    "process_images_in_directory(data_dir, zip_filename)\n"
   ],
   "id": "c37a94bf4c76d981",
   "outputs": [
    {
     "name": "stdout",
     "output_type": "stream",
     "text": [
      "Processed 100 images in category burger.\n",
      "Processed 200 images in category burger.\n",
      "Processed 300 images in category burger.\n",
      "Processed 100 images in category butter_naan.\n",
      "Processed 200 images in category butter_naan.\n",
      "Processed 300 images in category butter_naan.\n",
      "Processed 100 images in category chai.\n",
      "Processed 200 images in category chai.\n",
      "Processed 300 images in category chai.\n",
      "Processed 100 images in category chapati.\n",
      "Processed 200 images in category chapati.\n",
      "Processed 300 images in category chapati.\n",
      "Processed 400 images in category chapati.\n",
      "Error: Cropped image is empty.\n",
      "Skipping image C:\\Users\\sujib\\Downloads\\Dataset-2\\Food Classification\\chole_bhature\\020.jpg due to processing error.\n",
      "Processed 100 images in category chole_bhature.\n",
      "Processed 200 images in category chole_bhature.\n",
      "Processed 300 images in category chole_bhature.\n",
      "Processed 400 images in category chole_bhature.\n",
      "Processed 100 images in category dal_makhani.\n",
      "Error: Cropped image is empty.\n",
      "Skipping image C:\\Users\\sujib\\Downloads\\Dataset-2\\Food Classification\\dal_makhani\\187.jpg due to processing error.\n",
      "Processed 200 images in category dal_makhani.\n",
      "Error: Cropped image is empty.\n",
      "Skipping image C:\\Users\\sujib\\Downloads\\Dataset-2\\Food Classification\\dal_makhani\\222.jpg due to processing error.\n",
      "Processed 300 images in category dal_makhani.\n",
      "Processed 100 images in category dhokla.\n",
      "Processed 200 images in category dhokla.\n",
      "Processed 100 images in category fried_rice.\n",
      "Processed 200 images in category fried_rice.\n",
      "Processed 300 images in category fried_rice.\n",
      "Error: Cropped image is empty.\n",
      "Skipping image C:\\Users\\sujib\\Downloads\\Dataset-2\\Food Classification\\fried_rice\\310.jpg due to processing error.\n",
      "Processed 100 images in category idli.\n",
      "Processed 200 images in category idli.\n",
      "Processed 300 images in category idli.\n",
      "Processed 100 images in category jalebi.\n",
      "Processed 200 images in category jalebi.\n",
      "Processed 100 images in category kaathi_rolls.\n",
      "Processed 200 images in category kaathi_rolls.\n",
      "Processed 100 images in category kadai_paneer.\n",
      "Processed 200 images in category kadai_paneer.\n",
      "Processed 300 images in category kadai_paneer.\n",
      "Processed 400 images in category kadai_paneer.\n",
      "Processed 100 images in category kulfi.\n",
      "Processed 200 images in category kulfi.\n",
      "Processed 100 images in category masala_dosa.\n",
      "Processed 200 images in category masala_dosa.\n",
      "Processed 300 images in category masala_dosa.\n",
      "Processed 100 images in category momos.\n",
      "Error: Cropped image is empty.\n",
      "Skipping image C:\\Users\\sujib\\Downloads\\Dataset-2\\Food Classification\\momos\\161.jpg due to processing error.\n",
      "Processed 200 images in category momos.\n",
      "Processed 300 images in category momos.\n",
      "Processed 100 images in category paani_puri.\n",
      "Processed 100 images in category pakode.\n",
      "Processed 200 images in category pakode.\n",
      "Processed 100 images in category pav_bhaji.\n",
      "Processed 200 images in category pav_bhaji.\n",
      "Processed 300 images in category pav_bhaji.\n",
      "Error: Cropped image is empty.\n",
      "Skipping image C:\\Users\\sujib\\Downloads\\Dataset-2\\Food Classification\\pizza\\069.jpg due to processing error.\n",
      "Processed 100 images in category pizza.\n",
      "Processed 200 images in category pizza.\n",
      "Processed 100 images in category samosa.\n",
      "Processed 200 images in category samosa.\n",
      "All images zipped successfully.\n"
     ]
    }
   ],
   "execution_count": 10
  },
  {
   "metadata": {
    "ExecuteTime": {
     "end_time": "2024-11-10T06:10:40.745130Z",
     "start_time": "2024-11-10T06:10:38.912961Z"
    }
   },
   "cell_type": "code",
   "source": [
    "import zipfile\n",
    "import os\n",
    "\n",
    "zip_path = r'C:\\Users\\sujib\\Downloads\\images_tuned.zip'  # Path to your ZIP file\n",
    "extracted_dir = r'C:\\Users\\sujib\\Downloads\\images_extracted'  # Permanent folder path\n",
    "\n",
    "# Check if extraction folder exists, if not, create it\n",
    "os.makedirs(extracted_dir, exist_ok=True)\n",
    "\n",
    "try:\n",
    "    with zipfile.ZipFile(zip_path, 'r') as zip_ref:\n",
    "        # Extract all contents to the specified directory\n",
    "        zip_ref.extractall(extracted_dir)\n",
    "    print(\"Extraction successful. Files saved to:\", extracted_dir)\n",
    "except zipfile.BadZipFile:\n",
    "    print(\"Error: Corrupted ZIP file.\")\n",
    "except Exception as e:\n",
    "    print(\"Error occurred during extraction:\", str(e))"
   ],
   "id": "26ad7c68083be66",
   "outputs": [
    {
     "name": "stdout",
     "output_type": "stream",
     "text": [
      "Extraction successful. Files saved to: C:\\Users\\sujib\\Downloads\\images_extracted\n"
     ]
    }
   ],
   "execution_count": 11
  },
  {
   "metadata": {
    "ExecuteTime": {
     "end_time": "2024-11-10T06:10:43.844893Z",
     "start_time": "2024-11-10T06:10:40.762647Z"
    }
   },
   "cell_type": "code",
   "source": [
    "from torch.utils.data import DataLoader, random_split\n",
    "from torchvision.datasets import ImageFolder  # or DatasetFolder based on your use case\n",
    "from torchvision import transforms\n",
    "import torch\n",
    "import os\n",
    "\n",
    "# Define transformations for data augmentation and normalization\n",
    "transform = transforms.Compose([\n",
    "    transforms.Resize((128, 128)),    # Resize images to a fixed size\n",
    "    transforms.ToTensor(),            # Convert to tensor\n",
    "])\n",
    "\n",
    "# Define paths to your dataset\n",
    "dataset_root = r'C:\\Users\\sujib\\Downloads\\images_extracted'  # Path to your dataset folder\n",
    "\n",
    "# Load dataset from the root directory\n",
    "dataset = ImageFolder(root=dataset_root, transform=transform)\n",
    "\n",
    "# Calculate dataset size\n",
    "dataset_size = len(dataset)\n",
    "train_size = int(0.8 * dataset_size)\n",
    "val_size = int(0.1 * dataset_size)\n",
    "test_size = dataset_size - train_size - val_size\n",
    "\n",
    "# Split the dataset into training, validation, and test sets\n",
    "train_dataset, val_dataset, test_dataset = random_split(dataset, [train_size, val_size, test_size])\n",
    "\n",
    "# Print the sizes of the splits\n",
    "print(f\"Train Size: {len(train_dataset)}\")\n",
    "print(f\"Validation Size: {len(val_dataset)}\")\n",
    "print(f\"Test Size: {len(test_dataset)}\")\n",
    "\n",
    "# Create DataLoader instances\n",
    "train_loader = DataLoader(train_dataset, batch_size=32, shuffle=True)\n",
    "val_loader = DataLoader(val_dataset, batch_size=32)\n",
    "test_loader = DataLoader(test_dataset, batch_size=32)\n",
    "\n",
    "print(\"Data loading completed.\")\n"
   ],
   "id": "5ecd99bf5afd88f9",
   "outputs": [
    {
     "name": "stdout",
     "output_type": "stream",
     "text": [
      "Train Size: 22676\n",
      "Validation Size: 2834\n",
      "Test Size: 2836\n",
      "Data loading completed.\n"
     ]
    }
   ],
   "execution_count": 12
  },
  {
   "metadata": {
    "ExecuteTime": {
     "end_time": "2024-11-10T06:58:07.566001Z",
     "start_time": "2024-11-10T06:10:43.877547Z"
    }
   },
   "cell_type": "code",
   "source": [
    "import torch\n",
    "import torch.nn as nn\n",
    "import torch.optim as optim\n",
    "import torchvision.models as models\n",
    "import torchvision.transforms as transforms\n",
    "from torch.utils.data import DataLoader, random_split\n",
    "from torchvision.datasets import ImageFolder\n",
    "\n",
    "# Define device (use GPU if available, else use CPU)\n",
    "device = torch.device(\"cuda\" if torch.cuda.is_available() else \"cpu\")\n",
    "print(f\"Using device: {device}\")\n",
    "\n",
    "# Define the transformations (convert images to tensor, resize)\n",
    "transform = transforms.Compose([\n",
    "    transforms.Resize((128, 128)),    # Resize images to a fixed size\n",
    "    transforms.ToTensor(),\n",
    "])\n",
    "\n",
    "# Load dataset\n",
    "dataset_root = r'C:\\Users\\sujib\\Downloads\\images_extracted'\n",
    "dataset = ImageFolder(root=dataset_root, transform=transform)\n",
    "\n",
    "# Dataset splits\n",
    "dataset_size = len(dataset)\n",
    "train_size = int(0.8 * dataset_size)\n",
    "val_size = int(0.1 * dataset_size)\n",
    "test_size = dataset_size - train_size - val_size\n",
    "train_dataset, val_dataset, test_dataset = random_split(dataset, [train_size, val_size, test_size])\n",
    "\n",
    "# Print sizes of the splits\n",
    "print(f\"Train Size: {len(train_dataset)}\")\n",
    "print(f\"Validation Size: {len(val_dataset)}\")\n",
    "print(f\"Test Size: {len(test_dataset)}\")\n",
    "\n",
    "# Create DataLoader instances\n",
    "train_loader = DataLoader(train_dataset, batch_size=32, shuffle=True)\n",
    "val_loader = DataLoader(val_dataset, batch_size=32)\n",
    "test_loader = DataLoader(test_dataset, batch_size=32)\n",
    "\n",
    "# Define the MobileNetV2 model\n",
    "mobilenet_model = models.mobilenet_v2(pretrained=False)  # Use pretrained=True for pretrained weights if desired\n",
    "num_features = mobilenet_model.classifier[1].in_features\n",
    "\n",
    "# Modify the classifier for the number of classes in the dataset\n",
    "num_classes = len(dataset.classes)\n",
    "mobilenet_model.classifier[1] = nn.Linear(num_features, num_classes)\n",
    "mobilenet_model = mobilenet_model.to(device)\n",
    "\n",
    "# Loss function and optimizer\n",
    "criterion = nn.CrossEntropyLoss()\n",
    "optimizer = optim.SGD(mobilenet_model.parameters(), lr=0.001, momentum=0.9)\n",
    "\n",
    "# Number of epochs\n",
    "num_epochs = 10\n",
    "\n",
    "# Lists to store training and validation loss and accuracy\n",
    "train_losses = []\n",
    "val_losses = []\n",
    "train_accuracies = []\n",
    "val_accuracies = []\n",
    "\n",
    "# Training loop\n",
    "for epoch in range(num_epochs):\n",
    "    mobilenet_model.train()  # Set model to training mode\n",
    "    running_loss = 0.0\n",
    "    train_correct = 0\n",
    "    train_total = 0\n",
    "\n",
    "    for images, labels in train_loader:\n",
    "        images = images.to(device)\n",
    "        labels = labels.to(device)\n",
    "\n",
    "        # Zero the parameter gradients\n",
    "        optimizer.zero_grad()\n",
    "\n",
    "        # Forward pass\n",
    "        outputs = mobilenet_model(images)\n",
    "        loss = criterion(outputs, labels)\n",
    "\n",
    "        # Backward pass and optimization\n",
    "        loss.backward()\n",
    "        optimizer.step()\n",
    "\n",
    "        # Track running loss\n",
    "        running_loss += loss.item() * images.size(0)\n",
    "\n",
    "        # Calculate training accuracy\n",
    "        _, predicted = torch.max(outputs, 1)\n",
    "        train_total += labels.size(0)\n",
    "        train_correct += (predicted == labels).sum().item()\n",
    "\n",
    "    # Calculate average training loss and accuracy\n",
    "    train_loss = running_loss / len(train_loader.dataset)\n",
    "    train_accuracy = (train_correct / train_total) * 100\n",
    "    train_losses.append(train_loss)\n",
    "    train_accuracies.append(train_accuracy)\n",
    "\n",
    "    # Validation loop\n",
    "    mobilenet_model.eval()  # Set model to evaluation mode\n",
    "    val_loss = 0.0\n",
    "    val_correct = 0\n",
    "    val_total = 0\n",
    "    with torch.no_grad():  # Disable gradient calculation for validation\n",
    "        for images, labels in val_loader:\n",
    "            images = images.to(device)\n",
    "            labels = labels.to(device)\n",
    "\n",
    "            # Forward pass\n",
    "            outputs = mobilenet_model(images)\n",
    "            loss = criterion(outputs, labels)\n",
    "\n",
    "            # Track validation loss\n",
    "            val_loss += loss.item() * images.size(0)\n",
    "\n",
    "            # Calculate validation accuracy\n",
    "            _, predicted = torch.max(outputs, 1)\n",
    "            val_total += labels.size(0)\n",
    "            val_correct += (predicted == labels).sum().item()\n",
    "\n",
    "    # Calculate average validation loss and accuracy\n",
    "    val_loss = val_loss / len(val_loader.dataset)\n",
    "    val_accuracy = (val_correct / val_total) * 100\n",
    "    val_losses.append(val_loss)\n",
    "    val_accuracies.append(val_accuracy)\n",
    "\n",
    "    # Print statistics for this epoch\n",
    "    print(f'Epoch {epoch + 1}/{num_epochs}, '\n",
    "          f'Training Loss: {train_loss:.4f}, '\n",
    "          f'Validation Loss: {val_loss:.4f}, '\n",
    "          f'Train Accuracy: {train_accuracy:.2f}%, '\n",
    "          f'Validation Accuracy: {val_accuracy:.2f}%')\n"
   ],
   "id": "b0aa65c93493298",
   "outputs": [
    {
     "name": "stdout",
     "output_type": "stream",
     "text": [
      "Using device: cpu\n",
      "Train Size: 22676\n",
      "Validation Size: 2834\n",
      "Test Size: 2836\n"
     ]
    },
    {
     "name": "stderr",
     "output_type": "stream",
     "text": [
      "C:\\Users\\sujib\\anaconda3\\envs\\GroupB\\lib\\site-packages\\torchvision\\models\\_utils.py:208: UserWarning: The parameter 'pretrained' is deprecated since 0.13 and may be removed in the future, please use 'weights' instead.\n",
      "  warnings.warn(\n",
      "C:\\Users\\sujib\\anaconda3\\envs\\GroupB\\lib\\site-packages\\torchvision\\models\\_utils.py:223: UserWarning: Arguments other than a weight enum or `None` for 'weights' are deprecated since 0.13 and may be removed in the future. The current behavior is equivalent to passing `weights=None`.\n",
      "  warnings.warn(msg)\n"
     ]
    },
    {
     "name": "stdout",
     "output_type": "stream",
     "text": [
      "Epoch 1/10, Training Loss: 2.8175, Validation Loss: 2.7048, Train Accuracy: 13.64%, Validation Accuracy: 17.25%\n",
      "Epoch 2/10, Training Loss: 2.5780, Validation Loss: 2.4715, Train Accuracy: 20.23%, Validation Accuracy: 23.08%\n",
      "Epoch 3/10, Training Loss: 2.3982, Validation Loss: 2.3799, Train Accuracy: 25.95%, Validation Accuracy: 25.69%\n",
      "Epoch 4/10, Training Loss: 2.2426, Validation Loss: 2.2643, Train Accuracy: 30.74%, Validation Accuracy: 30.31%\n",
      "Epoch 5/10, Training Loss: 2.1152, Validation Loss: 2.1628, Train Accuracy: 34.65%, Validation Accuracy: 33.91%\n",
      "Epoch 6/10, Training Loss: 2.0057, Validation Loss: 2.1108, Train Accuracy: 37.69%, Validation Accuracy: 34.83%\n",
      "Epoch 7/10, Training Loss: 1.9034, Validation Loss: 2.0499, Train Accuracy: 40.94%, Validation Accuracy: 37.44%\n",
      "Epoch 8/10, Training Loss: 1.8050, Validation Loss: 1.9613, Train Accuracy: 44.24%, Validation Accuracy: 39.06%\n",
      "Epoch 9/10, Training Loss: 1.7265, Validation Loss: 2.0332, Train Accuracy: 46.46%, Validation Accuracy: 39.73%\n",
      "Epoch 10/10, Training Loss: 1.6290, Validation Loss: 1.8653, Train Accuracy: 49.38%, Validation Accuracy: 43.37%\n"
     ]
    }
   ],
   "execution_count": 13
  },
  {
   "metadata": {
    "ExecuteTime": {
     "end_time": "2024-11-10T06:58:07.846986Z",
     "start_time": "2024-11-10T06:58:07.575513Z"
    }
   },
   "cell_type": "code",
   "source": [
    "import matplotlib.pyplot as plt\n",
    "\n",
    "plt.figure(figsize=(12, 5))\n",
    "\n",
    "# Plot train and validation accuracy\n",
    "plt.subplot(1, 2, 1)\n",
    "plt.plot(range(1, num_epochs + 1), train_accuracies, label='Train Accuracy', marker='o')\n",
    "plt.plot(range(1, num_epochs + 1), val_accuracies, label='Validation Accuracy', marker='o')\n",
    "plt.xlabel('Epoch')\n",
    "plt.ylabel('Accuracy (%)')\n",
    "plt.title('Training and Validation Accuracy')\n",
    "plt.legend()\n",
    "\n",
    "# Plot train and validation loss\n",
    "plt.subplot(1, 2, 2)\n",
    "plt.plot(range(1, num_epochs + 1), train_losses, label='Training Loss', marker='o')\n",
    "plt.plot(range(1, num_epochs + 1), val_losses, label='Validation Loss', marker='o')\n",
    "plt.xlabel('Epoch')\n",
    "plt.ylabel('Loss')\n",
    "plt.title('Training and Validation Loss')\n",
    "plt.legend()\n",
    "\n",
    "plt.tight_layout()  # Adjust subplot parameters to give specified padding\n",
    "plt.show()\n"
   ],
   "id": "df2939efc297b31d",
   "outputs": [
    {
     "data": {
      "text/plain": [
       "<Figure size 1200x500 with 2 Axes>"
      ],
      "image/png": "[encoded data removed]"
     },
     "metadata": {},
     "output_type": "display_data"
    }
   ],
   "execution_count": 14
  },
  {
   "metadata": {},
   "cell_type": "markdown",
   "source": "Evaluate Model on Test Data",
   "id": "365874f927badd0a"
  },
  {
   "metadata": {
    "ExecuteTime": {
     "end_time": "2024-11-10T07:13:49.649507Z",
     "start_time": "2024-11-10T07:13:46.702456Z"
    }
   },
   "cell_type": "code",
   "source": [
    "import torch\n",
    "import torch.nn as nn\n",
    "from torchvision import models\n",
    "\n",
    "mobilenet_model = models.mobilenet_v2(pretrained=True).to(device)\n",
    "mobilenet_model.eval()\n",
    "\n",
    "all_preds = []\n",
    "all_labels = []\n",
    "all_features = []\n",
    "\n",
    "# Hook to capture features from the last convolutional layer\n",
    "def hook_fn(module, input, output):\n",
    "    all_features.append(output.cpu().detach().numpy())\n",
    "\n",
    "# Register hook to the last convolutional layer (before classifier)\n",
    "hook = mobilenet_model.features[-1].register_forward_hook(hook_fn)\n",
    "\n",
    "with torch.no_grad():\n",
    "    for images, labels in test_loader:\n",
    "        images, labels = images.to(device), labels.to(device)\n",
    "        outputs = mobilenet_model(images)\n",
    "        _, predicted = torch.max(outputs, 1)\n",
    "        all_preds.extend(predicted.cpu().numpy())\n",
    "        all_labels.extend(labels.cpu().numpy())\n",
    "\n",
    "# Remove hook after feature extraction\n",
    "hook.remove()\n",
    "\n",
    "\n"
   ],
   "id": "88117673d0d8b7d5",
   "outputs": [
    {
     "name": "stderr",
     "output_type": "stream",
     "text": [
      "C:\\Users\\sujib\\anaconda3\\envs\\GroupB\\lib\\site-packages\\torchvision\\models\\_utils.py:208: UserWarning: The parameter 'pretrained' is deprecated since 0.13 and may be removed in the future, please use 'weights' instead.\n",
      "  warnings.warn(\n",
      "C:\\Users\\sujib\\anaconda3\\envs\\GroupB\\lib\\site-packages\\torchvision\\models\\_utils.py:223: UserWarning: Arguments other than a weight enum or `None` for 'weights' are deprecated since 0.13 and may be removed in the future. The current behavior is equivalent to passing `weights=MobileNet_V2_Weights.IMAGENET1K_V1`. You can also use `weights=MobileNet_V2_Weights.DEFAULT` to get the most up-to-date weights.\n",
      "  warnings.warn(msg)\n"
     ]
    },
    {
     "ename": "NameError",
     "evalue": "name 'device' is not defined",
     "output_type": "error",
     "traceback": [
      "\u001B[1;31m---------------------------------------------------------------------------\u001B[0m",
      "\u001B[1;31mNameError\u001B[0m                                 Traceback (most recent call last)",
      "Cell \u001B[1;32mIn[2], line 5\u001B[0m\n\u001B[0;32m      2\u001B[0m \u001B[38;5;28;01mimport\u001B[39;00m \u001B[38;5;21;01mtorch\u001B[39;00m\u001B[38;5;21;01m.\u001B[39;00m\u001B[38;5;21;01mnn\u001B[39;00m \u001B[38;5;28;01mas\u001B[39;00m \u001B[38;5;21;01mnn\u001B[39;00m\n\u001B[0;32m      3\u001B[0m \u001B[38;5;28;01mfrom\u001B[39;00m \u001B[38;5;21;01mtorchvision\u001B[39;00m \u001B[38;5;28;01mimport\u001B[39;00m models\n\u001B[1;32m----> 5\u001B[0m mobilenet_model \u001B[38;5;241m=\u001B[39m models\u001B[38;5;241m.\u001B[39mmobilenet_v2(pretrained\u001B[38;5;241m=\u001B[39m\u001B[38;5;28;01mTrue\u001B[39;00m)\u001B[38;5;241m.\u001B[39mto(\u001B[43mdevice\u001B[49m)\n\u001B[0;32m      6\u001B[0m mobilenet_model\u001B[38;5;241m.\u001B[39meval()\n\u001B[0;32m      8\u001B[0m all_preds \u001B[38;5;241m=\u001B[39m []\n",
      "\u001B[1;31mNameError\u001B[0m: name 'device' is not defined"
     ]
    }
   ],
   "execution_count": 2
  },
  {
   "metadata": {},
   "cell_type": "markdown",
   "source": "Calculating and Displaying Metrics",
   "id": "83df0fbf9c53fe28"
  },
  {
   "metadata": {
    "ExecuteTime": {
     "end_time": "2024-11-10T07:16:31.751198Z",
     "start_time": "2024-11-10T07:16:31.744820Z"
    }
   },
   "cell_type": "code",
   "source": [
    "from sklearn.metrics import precision_score, recall_score, f1_score, accuracy_score\n",
    "\n",
    "# Assuming all_preds and all_labels are already defined\n",
    "\n",
    "# Set zero_division to 0 or 1 to control how you want to handle undefined metrics\n",
    "precision = precision_score(all_labels, all_preds, average='weighted', zero_division=0)\n",
    "recall = recall_score(all_labels, all_preds, average='weighted', zero_division=0)\n",
    "f1 = f1_score(all_labels, all_preds, average='weighted', zero_division=0)\n",
    "accuracy = accuracy_score(all_labels,all_preds)\n",
    "print(f\"Accuracy: {accuracy * 100:.2f}%\")\n",
    "print(f\"Precision: {precision * 100:.2f}%\")\n",
    "print(f\"Recall: {recall * 100:.2f}%\")\n",
    "print(f\"F1 Score: {f1*100:.2f}%\")"
   ],
   "id": "7f27d40599007209",
   "outputs": [
    {
     "name": "stdout",
     "output_type": "stream",
     "text": [
      "Accuracy: 46.47%\n",
      "Precision: 52.53%\n",
      "Recall: 48.71%\n",
      "F1 Score: 44.51%\n"
     ]
    }
   ],
   "execution_count": 4
  }
 ],
 "metadata": {
  "kernelspec": {
   "display_name": "Python 3",
   "language": "python",
   "name": "python3"
  },
  "language_info": {
   "codemirror_mode": {
    "name": "ipython",
    "version": 2
   },
   "file_extension": ".py",
   "mimetype": "text/x-python",
   "name": "python",
   "nbconvert_exporter": "python",
   "pygments_lexer": "ipython2",
   "version": "2.7.6"
  }
 },
 "nbformat": 4,
 "nbformat_minor": 5
}
