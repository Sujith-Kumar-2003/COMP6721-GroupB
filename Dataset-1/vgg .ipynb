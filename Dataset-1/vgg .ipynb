{
 "cells": [
  {
   "cell_type": "code",
   "execution_count": 1,
   "id": "d2657550-261f-4b96-bb70-c19c0284d507",
   "metadata": {},
   "outputs": [],
   "source": [
    "import torch\n",
    "from torchvision import datasets, transforms, models\n",
    "from torch.utils.data import DataLoader, random_split\n",
    "import torch.nn as nn\n",
    "import torch.optim as optim\n",
    "from sklearn.metrics import accuracy_score, precision_score, recall_score, f1_score, confusion_matrix\n",
    "from sklearn.manifold import TSNE\n",
    "import numpy as np\n",
    "import matplotlib.pyplot as plt\n",
    "import seaborn as sns\n",
    "from itertools import product\n"
   ]
  },
  {
   "cell_type": "code",
   "execution_count": 2,
   "id": "b08c744d-b158-4ef3-a417-efb1aa36ac0f",
   "metadata": {},
   "outputs": [
    {
     "name": "stdout",
     "output_type": "stream",
     "text": [
      "Using device: cpu\n"
     ]
    }
   ],
   "source": [
    "device = torch.device(\"cuda\" if torch.cuda.is_available() else \"cpu\")\n",
    "print(f\"Using device: {device}\")"
   ]
  },
  {
   "cell_type": "code",
   "execution_count": 3,
   "id": "554a0dff-2809-4fca-a5bf-9878e3c80800",
   "metadata": {},
   "outputs": [],
   "source": [
    "train_transforms = transforms.Compose([\n",
    "    transforms.Resize((224, 224)),\n",
    "    transforms.RandomHorizontalFlip(),\n",
    "    transforms.RandomRotation(15),\n",
    "    transforms.ColorJitter(brightness=0.2, contrast=0.2, saturation=0.2, hue=0.2),\n",
    "    transforms.RandomAffine(degrees=0, translate=(0.1, 0.1)),\n",
    "    transforms.ToTensor(),\n",
    "    transforms.Normalize([0.485, 0.456, 0.406], [0.229, 0.224, 0.225])\n",
    "])\n",
    "\n",
    "test_transforms = transforms.Compose([\n",
    "    transforms.Resize((224, 224)),\n",
    "    transforms.ToTensor(),\n",
    "    transforms.Normalize([0.485, 0.456, 0.406], [0.229, 0.224, 0.225])\n",
    "])"
   ]
  },
  {
   "cell_type": "code",
   "execution_count": 4,
   "id": "69c4488f-7415-4f81-9a18-6108dc1aba4d",
   "metadata": {},
   "outputs": [],
   "source": [
    "data_dir = '/Users/akhireddy/Downloads/AAI/AI-Project/Dataset-1/'\n",
    "full_data = datasets.ImageFolder(data_dir, transform=train_transforms)"
   ]
  },
  {
   "cell_type": "code",
   "execution_count": 5,
   "id": "7de80834-e8de-4182-b756-9edb11796881",
   "metadata": {},
   "outputs": [
    {
     "name": "stdout",
     "output_type": "stream",
     "text": [
      "Training samples: 4733, Validation samples: 1184, Testing samples: 5917\n"
     ]
    }
   ],
   "source": [
    "dataset_size = len(full_data)\n",
    "train_size = int(0.8 * dataset_size)\n",
    "val_size = dataset_size - train_size\n",
    "train_data, val_data = random_split(full_data, [train_size, val_size])\n",
    "\n",
    "# Test dataset creation\n",
    "test_data = datasets.ImageFolder(data_dir, transform=test_transforms)\n",
    "\n",
    "print(f\"Training samples: {len(train_data)}, Validation samples: {len(val_data)}, Testing samples: {len(test_data)}\")"
   ]
  },
  {
   "cell_type": "code",
   "execution_count": 6,
   "id": "452afe11-cf5e-41e3-8791-2dad0a75da71",
   "metadata": {},
   "outputs": [],
   "source": [
    "def train_and_validate(model, train_loader, val_loader, criterion, optimizer, scheduler, num_epochs=5):\n",
    "    train_losses, val_losses = [], []\n",
    "    train_accuracies, val_accuracies = [], []\n",
    "\n",
    "    for epoch in range(num_epochs):\n",
    "        model.train()\n",
    "        running_loss, running_corrects, total_samples = 0.0, 0, 0\n",
    "\n",
    "        for inputs, labels in train_loader:\n",
    "            inputs, labels = inputs.to(device), labels.to(device)\n",
    "            optimizer.zero_grad()\n",
    "            outputs = model(inputs)\n",
    "            _, preds = torch.max(outputs, 1)\n",
    "            loss = criterion(outputs, labels)\n",
    "            loss.backward()\n",
    "            optimizer.step()\n",
    "\n",
    "            running_loss += loss.item() * inputs.size(0)\n",
    "            running_corrects += torch.sum(preds == labels.data)\n",
    "            total_samples += labels.size(0)\n",
    "\n",
    "        epoch_train_loss = running_loss / total_samples\n",
    "        epoch_train_acc = running_corrects.double() / total_samples\n",
    "        train_losses.append(epoch_train_loss)\n",
    "        train_accuracies.append(epoch_train_acc.item())\n",
    "\n",
    "        model.eval()\n",
    "        val_loss, val_corrects, val_samples = 0.0, 0, 0\n",
    "\n",
    "        with torch.no_grad():\n",
    "            for val_inputs, val_labels in val_loader:\n",
    "                val_inputs, val_labels = val_inputs.to(device), val_labels.to(device)\n",
    "                val_outputs = model(val_inputs)\n",
    "                val_loss_batch = criterion(val_outputs, val_labels)\n",
    "                _, val_preds = torch.max(val_outputs, 1)\n",
    "\n",
    "                val_loss += val_loss_batch.item() * val_inputs.size(0)\n",
    "                val_corrects += torch.sum(val_preds == val_labels.data)\n",
    "                val_samples += val_labels.size(0)\n",
    "\n",
    "        epoch_val_loss = val_loss / val_samples\n",
    "        epoch_val_acc = val_corrects.double() / val_samples\n",
    "        val_losses.append(epoch_val_loss)\n",
    "        val_accuracies.append(epoch_val_acc.item())\n",
    "\n",
    "        print(f\"Epoch {epoch+1}/{num_epochs} - Train Loss: {epoch_train_loss:.4f}, Train Acc: {epoch_train_acc*100:.2f}%, Val Loss: {epoch_val_loss:.4f}, Val Acc: {epoch_val_acc*100:.2f}%\")\n",
    "\n",
    "        scheduler.step()\n",
    "\n",
    "    return train_losses, val_losses, train_accuracies, val_accuracies"
   ]
  },
  {
   "cell_type": "code",
   "execution_count": 7,
   "id": "6dd5aa16-42f0-4e71-9d5b-7fd3459ddb81",
   "metadata": {},
   "outputs": [
    {
     "name": "stdout",
     "output_type": "stream",
     "text": [
      "Testing batch size 16 and learning rate 0.01\n",
      "Epoch 1/5 - Train Loss: 61.7663, Train Acc: 69.68%, Val Loss: 6.8002, Val Acc: 78.38%\n",
      "Epoch 2/5 - Train Loss: 10.5410, Train Acc: 78.09%, Val Loss: 1.5676, Val Acc: 79.14%\n",
      "Epoch 3/5 - Train Loss: 4.7270, Train Acc: 79.08%, Val Loss: 0.6776, Val Acc: 79.56%\n",
      "Epoch 4/5 - Train Loss: 1.4567, Train Acc: 79.82%, Val Loss: 1.0284, Val Acc: 79.56%\n",
      "Epoch 5/5 - Train Loss: 1.1669, Train Acc: 79.91%, Val Loss: 0.9035, Val Acc: 79.65%\n",
      "Testing batch size 16 and learning rate 0.001\n",
      "Epoch 1/5 - Train Loss: 0.8967, Train Acc: 72.30%, Val Loss: 0.5619, Val Acc: 75.42%\n",
      "Epoch 2/5 - Train Loss: 0.8262, Train Acc: 71.22%, Val Loss: 0.5774, Val Acc: 79.31%\n",
      "Epoch 3/5 - Train Loss: 0.6612, Train Acc: 74.43%, Val Loss: 0.5251, Val Acc: 79.73%\n",
      "Epoch 4/5 - Train Loss: 0.5752, Train Acc: 78.09%, Val Loss: 0.5326, Val Acc: 79.81%\n",
      "Epoch 5/5 - Train Loss: 0.5252, Train Acc: 79.89%, Val Loss: 0.5536, Val Acc: 79.81%\n",
      "Testing batch size 16 and learning rate 0.0001\n",
      "Epoch 1/5 - Train Loss: 0.5573, Train Acc: 79.72%, Val Loss: 0.5322, Val Acc: 79.31%\n",
      "Epoch 2/5 - Train Loss: 0.5264, Train Acc: 79.93%, Val Loss: 0.5105, Val Acc: 79.81%\n",
      "Epoch 3/5 - Train Loss: 0.5183, Train Acc: 79.99%, Val Loss: 0.5167, Val Acc: 79.81%\n",
      "Epoch 4/5 - Train Loss: 0.5108, Train Acc: 80.01%, Val Loss: 0.5132, Val Acc: 79.81%\n",
      "Epoch 5/5 - Train Loss: 0.4961, Train Acc: 80.03%, Val Loss: 0.5188, Val Acc: 79.81%\n",
      "Testing batch size 32 and learning rate 0.01\n",
      "Epoch 1/5 - Train Loss: 38.1923, Train Acc: 67.80%, Val Loss: 20.5123, Val Acc: 79.81%\n",
      "Epoch 2/5 - Train Loss: 13.3834, Train Acc: 75.66%, Val Loss: 1.5431, Val Acc: 78.04%\n",
      "Epoch 3/5 - Train Loss: 3.1850, Train Acc: 79.25%, Val Loss: 1.2577, Val Acc: 79.39%\n",
      "Epoch 4/5 - Train Loss: 0.9969, Train Acc: 79.99%, Val Loss: 0.6057, Val Acc: 79.73%\n",
      "Epoch 5/5 - Train Loss: 0.7177, Train Acc: 79.82%, Val Loss: 0.8321, Val Acc: 79.56%\n",
      "Testing batch size 32 and learning rate 0.001\n",
      "Epoch 1/5 - Train Loss: 0.7193, Train Acc: 75.77%, Val Loss: 0.5118, Val Acc: 79.81%\n",
      "Epoch 2/5 - Train Loss: 0.7083, Train Acc: 74.46%, Val Loss: 0.5861, Val Acc: 72.89%\n",
      "Epoch 3/5 - Train Loss: 0.7305, Train Acc: 72.87%, Val Loss: 0.5359, Val Acc: 79.81%\n",
      "Epoch 4/5 - Train Loss: 0.5526, Train Acc: 78.55%, Val Loss: 0.5512, Val Acc: 79.81%\n",
      "Epoch 5/5 - Train Loss: 0.5296, Train Acc: 79.48%, Val Loss: 0.5415, Val Acc: 79.81%\n",
      "Testing batch size 32 and learning rate 0.0001\n",
      "Epoch 1/5 - Train Loss: 0.5495, Train Acc: 79.59%, Val Loss: 0.5507, Val Acc: 79.73%\n",
      "Epoch 2/5 - Train Loss: 0.5204, Train Acc: 80.01%, Val Loss: 0.5194, Val Acc: 79.81%\n",
      "Epoch 3/5 - Train Loss: 0.5198, Train Acc: 79.97%, Val Loss: 0.5565, Val Acc: 79.73%\n",
      "Epoch 4/5 - Train Loss: 0.5013, Train Acc: 79.99%, Val Loss: 0.5193, Val Acc: 79.81%\n",
      "Epoch 5/5 - Train Loss: 0.4942, Train Acc: 80.03%, Val Loss: 0.5201, Val Acc: 79.81%\n",
      "Testing batch size 64 and learning rate 0.01\n",
      "Epoch 1/5 - Train Loss: 40.1340, Train Acc: 69.28%, Val Loss: 0.9018, Val Acc: 79.81%\n",
      "Epoch 2/5 - Train Loss: 1.3744, Train Acc: 77.73%, Val Loss: 0.5396, Val Acc: 79.81%\n",
      "Epoch 3/5 - Train Loss: 1.6978, Train Acc: 77.86%, Val Loss: 0.5144, Val Acc: 79.81%\n",
      "Epoch 4/5 - Train Loss: 0.8647, Train Acc: 79.40%, Val Loss: 0.5111, Val Acc: 79.81%\n",
      "Epoch 5/5 - Train Loss: 0.6209, Train Acc: 79.84%, Val Loss: 0.5087, Val Acc: 79.81%\n",
      "Testing batch size 64 and learning rate 0.001\n",
      "Epoch 1/5 - Train Loss: 0.6184, Train Acc: 77.46%, Val Loss: 0.5227, Val Acc: 79.81%\n",
      "Epoch 2/5 - Train Loss: 0.5546, Train Acc: 79.78%, Val Loss: 0.5087, Val Acc: 79.81%\n",
      "Epoch 3/5 - Train Loss: 0.5590, Train Acc: 78.70%, Val Loss: 0.5420, Val Acc: 79.81%\n",
      "Epoch 4/5 - Train Loss: 0.5352, Train Acc: 79.40%, Val Loss: 0.5278, Val Acc: 79.81%\n",
      "Epoch 5/5 - Train Loss: 0.5176, Train Acc: 80.03%, Val Loss: 0.5324, Val Acc: 79.81%\n",
      "Testing batch size 64 and learning rate 0.0001\n",
      "Epoch 1/5 - Train Loss: 0.5498, Train Acc: 79.02%, Val Loss: 0.5297, Val Acc: 79.81%\n",
      "Epoch 2/5 - Train Loss: 0.5169, Train Acc: 80.03%, Val Loss: 0.5229, Val Acc: 79.81%\n",
      "Epoch 3/5 - Train Loss: 0.4980, Train Acc: 80.03%, Val Loss: 0.5219, Val Acc: 79.90%\n",
      "Epoch 4/5 - Train Loss: 0.4873, Train Acc: 80.05%, Val Loss: 0.5222, Val Acc: 79.73%\n",
      "Epoch 5/5 - Train Loss: 0.4786, Train Acc: 80.20%, Val Loss: 0.5234, Val Acc: 79.81%\n",
      "Best Parameters: Batch Size = 16, Learning Rate = 0.001 with Validation Accuracy: 79.81%\n"
     ]
    }
   ],
   "source": [
    "batch_sizes = [16, 32, 64]\n",
    "learning_rates = [0.01, 0.001, 0.0001]\n",
    "n_epochs = 5\n",
    "\n",
    "best_acc = 0.0\n",
    "best_params = None\n",
    "\n",
    "for batch_size, lr in product(batch_sizes, learning_rates):\n",
    "    print(f\"Testing batch size {batch_size} and learning rate {lr}\")\n",
    "\n",
    "    # DataLoader creation\n",
    "    train_loader = DataLoader(train_data, batch_size=batch_size, shuffle=True)\n",
    "    val_loader = DataLoader(val_data, batch_size=batch_size)\n",
    "\n",
    "    # Load and Customize VGG16\n",
    "    model = models.vgg16(weights=models.VGG16_Weights.IMAGENET1K_V1)\n",
    "    for param in model.features.parameters():\n",
    "        param.requires_grad = False\n",
    "    \n",
    "    model.classifier[6] = nn.Linear(model.classifier[6].in_features, len(test_data.classes))\n",
    "    model = model.to(device)\n",
    "\n",
    "    # Loss, Optimizer, and Scheduler\n",
    "    criterion = nn.CrossEntropyLoss()\n",
    "    optimizer = optim.Adam(filter(lambda p: p.requires_grad, model.parameters()), lr=lr)\n",
    "    scheduler = optim.lr_scheduler.StepLR(optimizer, step_size=3, gamma=0.1)\n",
    "\n",
    "    # Train and Validate\n",
    "    _, _, _, val_accuracies = train_and_validate(model, train_loader, val_loader, criterion, optimizer, scheduler, num_epochs=n_epochs)\n",
    "    final_val_acc = val_accuracies[-1]\n",
    "\n",
    "    if final_val_acc > best_acc:\n",
    "        best_acc = final_val_acc\n",
    "        best_params = (batch_size, lr)\n",
    "\n",
    "print(f\"Best Parameters: Batch Size = {best_params[0]}, Learning Rate = {best_params[1]} with Validation Accuracy: {best_acc*100:.2f}%\")"
   ]
  },
  {
   "cell_type": "code",
   "execution_count": 8,
   "id": "d9eeb420-9241-437f-9c30-7da023f5a146",
   "metadata": {},
   "outputs": [],
   "source": [
    "best_batch_size, best_lr = best_params\n",
    "train_loader = DataLoader(train_data, batch_size=best_batch_size, shuffle=True)\n",
    "val_loader = DataLoader(val_data, batch_size=best_batch_size)\n",
    "test_loader = DataLoader(test_data, batch_size=best_batch_size)\n",
    "\n",
    "model = models.vgg16(weights=models.VGG16_Weights.IMAGENET1K_V1)\n",
    "for param in model.features.parameters():\n",
    "    param.requires_grad = False\n",
    "\n",
    "model.classifier[6] = nn.Linear(model.classifier[6].in_features, len(test_data.classes))\n",
    "model = model.to(device)\n",
    "\n",
    "criterion = nn.CrossEntropyLoss()\n",
    "optimizer = optim.Adam(filter(lambda p: p.requires_grad, model.parameters()), lr=best_lr)\n",
    "scheduler = optim.lr_scheduler.StepLR(optimizer, step_size=3, gamma=0.1)"
   ]
  },
  {
   "cell_type": "code",
   "execution_count": 9,
   "id": "4bab7149-6168-4dab-ad70-a4debaccb1c6",
   "metadata": {},
   "outputs": [
    {
     "name": "stdout",
     "output_type": "stream",
     "text": [
      "Epoch 1/5 - Train Loss: 0.9913, Train Acc: 71.73%, Val Loss: 0.8348, Val Acc: 78.55%\n",
      "Epoch 2/5 - Train Loss: 0.8030, Train Acc: 72.17%, Val Loss: 0.7095, Val Acc: 79.81%\n",
      "Epoch 3/5 - Train Loss: 0.6591, Train Acc: 75.05%, Val Loss: 0.5660, Val Acc: 79.81%\n",
      "Epoch 4/5 - Train Loss: 0.5631, Train Acc: 78.72%, Val Loss: 0.5397, Val Acc: 79.81%\n",
      "Epoch 5/5 - Train Loss: 0.5298, Train Acc: 79.67%, Val Loss: 0.5366, Val Acc: 79.81%\n",
      "Test Accuracy: 80.02%\n",
      "Precision: 84.02%\n",
      "Recall: 80.02%\n",
      "F1 Score: 71.18%\n"
     ]
    }
   ],
   "source": [
    "train_and_validate(model, train_loader, val_loader, criterion, optimizer, scheduler, num_epochs=n_epochs)\n",
    "\n",
    "# Evaluate on Test Data\n",
    "model.eval()\n",
    "all_preds, all_labels = [], []\n",
    "\n",
    "with torch.no_grad():\n",
    "    for images, labels in test_loader:\n",
    "        images, labels = images.to(device), labels.to(device)\n",
    "        outputs = model(images)\n",
    "        _, predicted = torch.max(outputs, 1)\n",
    "        all_preds.extend(predicted.cpu().numpy())\n",
    "        all_labels.extend(labels.cpu().numpy())\n",
    "\n",
    "accuracy = accuracy_score(all_labels, all_preds)\n",
    "precision = precision_score(all_labels, all_preds, average='weighted')\n",
    "recall = recall_score(all_labels, all_preds, average='weighted')\n",
    "f1 = f1_score(all_labels, all_preds, average='weighted')\n",
    "\n",
    "print(f\"Test Accuracy: {accuracy*100:.2f}%\")\n",
    "print(f\"Precision: {precision*100:.2f}%\")\n",
    "print(f\"Recall: {recall*100:.2f}%\")\n",
    "print(f\"F1 Score: {f1*100:.2f}%\")"
   ]
  },
  {
   "cell_type": "code",
   "execution_count": 10,
   "id": "af37bb4b-9a89-47d0-846c-238398102c37",
   "metadata": {},
   "outputs": [
    {
     "data": {
      "image/png": "[encoded data removed]",
      "text/plain": [
       "<Figure size 800x600 with 2 Axes>"
      ]
     },
     "metadata": {},
     "output_type": "display_data"
    }
   ],
   "source": [
    "conf_matrix = confusion_matrix(all_labels, all_preds)\n",
    "class_names = test_loader.dataset.classes\n",
    "\n",
    "plt.figure(figsize=(8, 6))\n",
    "sns.heatmap(conf_matrix, annot=True, cmap=\"Blues\", fmt=\"d\", xticklabels=class_names, yticklabels=class_names)\n",
    "plt.xlabel('Predicted labels')\n",
    "plt.ylabel('True labels')\n",
    "plt.title('Confusion Matrix for VGG16 Model')\n",
    "plt.show()\n"
   ]
  }
 ],
 "metadata": {
  "kernelspec": {
   "display_name": "Python 3 (ipykernel)",
   "language": "python",
   "name": "python3"
  },
  "language_info": {
   "codemirror_mode": {
    "name": "ipython",
    "version": 3
   },
   "file_extension": ".py",
   "mimetype": "text/x-python",
   "name": "python",
   "nbconvert_exporter": "python",
   "pygments_lexer": "ipython3",
   "version": "3.12.7"
  }
 },
 "nbformat": 4,
 "nbformat_minor": 5
}
